{
 "cells": [
  {
   "cell_type": "markdown",
   "metadata": {
    "id": "hrsaDfdVHzxt",
    "pycharm": {
     "name": "#%% md\n"
    }
   },
   "source": [
    "# YOLOv5 Ultralytics\n",
    "\n",
    "Source:\n",
    "https://github.com/ultralytics/yolov5\n",
    "\n",
    "Tutorial:\n",
    "https://github.com/ultralytics/yolov5/wiki/Train-Custom-Data\n",
    "\n"
   ]
  },
  {
   "cell_type": "markdown",
   "metadata": {
    "id": "yNveqeA1KXGy",
    "pycharm": {
     "name": "#%% md\n"
    }
   },
   "source": [
    "# Step 1: Install Requirements"
   ]
  },
  {
   "cell_type": "code",
   "execution_count": 2,
   "metadata": {
    "colab": {
     "base_uri": "https://localhost:8080/"
    },
    "id": "GX-x9g_D8UXF",
    "outputId": "7ee828db-084b-43c3-f235-287de32f8cb4",
    "pycharm": {
     "name": "#%%\n"
    }
   },
   "outputs": [
    {
     "name": "stdout",
     "output_type": "stream",
     "text": [
      "/Users/mve/code/school/captcha-solver\n"
     ]
    }
   ],
   "source": [
    "PROJECT_ROOT = \"~/code/school/captcha-solver\" #@param {type:\"string\"}\n",
    "\n",
    "import os.path\n",
    "\n",
    "# Go to root of project.\n",
    "%cd {PROJECT_ROOT}"
   ]
  },
  {
   "cell_type": "code",
   "execution_count": 2,
   "metadata": {
    "colab": {
     "base_uri": "https://localhost:8080/"
    },
    "id": "kTvDNSILZoN9",
    "outputId": "2dd2dee1-95ef-44a8-9270-4e55369b9356",
    "pycharm": {
     "name": "#%%\n"
    }
   },
   "outputs": [
    {
     "name": "stdout",
     "output_type": "stream",
     "text": [
      "Cloning into 'yolov5'...\r\n",
      "remote: Enumerating objects: 13580, done.\u001B[K\r\n",
      "remote: Counting objects: 100% (104/104), done.\u001B[K\r\n",
      "remote: Compressing objects: 100% (37/37), done.\u001B[K\r\n",
      "remote: Total 13580 (delta 75), reused 91 (delta 67), pack-reused 13476\u001B[Kbjects:  24% (3260/13580), 1.77 MiB | 807.00 KiB/sReceiving objects:  25% (3397/13580), 2.24 MiB | 818.00 KiB/sReceiving objects:  27% (3667/13580), 2.75 MiB | 839.00 KiB/sReceiving objects:  29% (3939/13580), 2.75 MiB | 839.00 KiB/sReceiving objects:  31% (4210/13580), 2.75 MiB | 839.00 KiB/sReceiving objects:  33% (4559/13580), 3.29 MiB | 857.00 KiB/sReceiving objects:  35% (4753/13580), 3.29 MiB | 857.00 KiB/sReceiving objects:  37% (5025/13580), 3.29 MiB | 857.00 KiB/sReceiving objects:  39% (5297/13580), 3.86 MiB | 882.00 KiB/sReceiving objects:  41% (5568/13580), 3.86 MiB | 882.00 KiB/sReceiving objects:  43% (5840/13580), 3.86 MiB | 882.00 KiB/sReceiving objects:  44% (6039/13580), 4.43 MiB | 913.00 KiB/sReceiving objects:  46% (6247/13580), 4.43 MiB | 913.00 KiB/sReceiving objects:  49% (6655/13580), 4.43 MiB | 913.00 KiB/sReceiving objects:  52% (7062/13580), 5.03 MiB | 934.00 KiB/sReceiving objects:  52% (7124/13580), 7.17 MiB | 1.08 MiB/s  Receiving objects:  54% (7334/13580), 7.94 MiB | 1.15 MiB/sReceiving objects:  56% (7605/13580), 7.94 MiB | 1.15 MiB/sReceiving objects:  60% (8148/13580), 8.75 MiB | 1.21 MiB/sReceiving objects:  62% (8420/13580), 8.75 MiB | 1.21 MiB/sReceiving objects:  64% (8692/13580), 8.75 MiB | 1.21 MiB/sReceiving objects:  67% (9099/13580), 8.75 MiB | 1.21 MiB/sReceiving objects:  69% (9371/13580), 8.75 MiB | 1.21 MiB/sReceiving objects:  71% (9642/13580), 9.69 MiB | 1.28 MiB/sReceiving objects:  72% (9778/13580), 9.69 MiB | 1.28 MiB/sReceiving objects:  74% (10050/13580), 9.69 MiB | 1.28 MiB/sReceiving objects:  77% (10457/13580), 9.69 MiB | 1.28 MiB/sReceiving objects:  81% (11000/13580), 9.69 MiB | 1.28 MiB/sReceiving objects:  87% (11815/13580), 10.80 MiB | 1.39 MiB/sReceiving objects:  92% (12494/13580), 10.80 MiB | 1.39 MiB/sReceiving objects:  94% (12766/13580), 10.80 MiB | 1.39 MiB/s\r\n",
      "Receiving objects: 100% (13580/13580), 12.14 MiB | 1.22 MiB/s, done.\r\n",
      "Resolving deltas: 100% (9475/9475), done.\r\n",
      "error: pathspec 'apple/mps' did not match any file(s) known to git\r\n",
      "/Users/mve/code/school/captcha-solver/yolov5\n",
      "Looking in indexes: https://pypi.org/simple, https://download.pytorch.org/whl/nightly/cpu\r\n",
      "Requirement already satisfied: matplotlib>=3.2.2 in /Users/mve/miniforge3/envs/yolov5-ultralytics/lib/python3.9/site-packages (from -r requirements.txt (line 4)) (3.5.2)\r\n",
      "Requirement already satisfied: numpy>=1.18.5 in /Users/mve/miniforge3/envs/yolov5-ultralytics/lib/python3.9/site-packages (from -r requirements.txt (line 5)) (1.22.3)\r\n",
      "Requirement already satisfied: opencv-python>=4.1.1 in /Users/mve/miniforge3/envs/yolov5-ultralytics/lib/python3.9/site-packages (from -r requirements.txt (line 6)) (4.5.5.64)\r\n",
      "Requirement already satisfied: Pillow>=7.1.2 in /Users/mve/miniforge3/envs/yolov5-ultralytics/lib/python3.9/site-packages (from -r requirements.txt (line 7)) (9.1.1)\r\n",
      "Requirement already satisfied: PyYAML>=5.3.1 in /Users/mve/miniforge3/envs/yolov5-ultralytics/lib/python3.9/site-packages (from -r requirements.txt (line 8)) (6.0)\r\n",
      "Requirement already satisfied: requests>=2.23.0 in /Users/mve/miniforge3/envs/yolov5-ultralytics/lib/python3.9/site-packages (from -r requirements.txt (line 9)) (2.27.1)\r\n",
      "Requirement already satisfied: scipy>=1.4.1 in /Users/mve/miniforge3/envs/yolov5-ultralytics/lib/python3.9/site-packages (from -r requirements.txt (line 10)) (1.8.1)\r\n",
      "Requirement already satisfied: torch>=1.7.0 in /Users/mve/miniforge3/envs/yolov5-ultralytics/lib/python3.9/site-packages (from -r requirements.txt (line 11)) (1.11.0)\r\n",
      "Requirement already satisfied: torchvision>=0.8.1 in /Users/mve/miniforge3/envs/yolov5-ultralytics/lib/python3.9/site-packages (from -r requirements.txt (line 12)) (0.12.0a0)\r\n",
      "Requirement already satisfied: tqdm>=4.41.0 in /Users/mve/miniforge3/envs/yolov5-ultralytics/lib/python3.9/site-packages (from -r requirements.txt (line 13)) (4.64.0)\r\n",
      "Requirement already satisfied: tensorboard>=2.4.1 in /Users/mve/miniforge3/envs/yolov5-ultralytics/lib/python3.9/site-packages (from -r requirements.txt (line 16)) (2.9.0)\r\n",
      "Requirement already satisfied: pandas>=1.1.4 in /Users/mve/miniforge3/envs/yolov5-ultralytics/lib/python3.9/site-packages (from -r requirements.txt (line 20)) (1.4.2)\r\n",
      "Requirement already satisfied: seaborn>=0.11.0 in /Users/mve/miniforge3/envs/yolov5-ultralytics/lib/python3.9/site-packages (from -r requirements.txt (line 21)) (0.11.2)\r\n",
      "Requirement already satisfied: thop in /Users/mve/miniforge3/envs/yolov5-ultralytics/lib/python3.9/site-packages (from -r requirements.txt (line 37)) (0.0.31.post2005241907)\r\n",
      "Requirement already satisfied: kiwisolver>=1.0.1 in /Users/mve/miniforge3/envs/yolov5-ultralytics/lib/python3.9/site-packages (from matplotlib>=3.2.2->-r requirements.txt (line 4)) (1.3.1)\r\n",
      "Requirement already satisfied: packaging>=20.0 in /Users/mve/miniforge3/envs/yolov5-ultralytics/lib/python3.9/site-packages (from matplotlib>=3.2.2->-r requirements.txt (line 4)) (21.3)\r\n",
      "Requirement already satisfied: python-dateutil>=2.7 in /Users/mve/miniforge3/envs/yolov5-ultralytics/lib/python3.9/site-packages (from matplotlib>=3.2.2->-r requirements.txt (line 4)) (2.8.2)\r\n",
      "Requirement already satisfied: cycler>=0.10 in /Users/mve/miniforge3/envs/yolov5-ultralytics/lib/python3.9/site-packages (from matplotlib>=3.2.2->-r requirements.txt (line 4)) (0.10.0)\r\n",
      "Requirement already satisfied: pyparsing>=2.2.1 in /Users/mve/miniforge3/envs/yolov5-ultralytics/lib/python3.9/site-packages (from matplotlib>=3.2.2->-r requirements.txt (line 4)) (2.4.7)\r\n",
      "Requirement already satisfied: fonttools>=4.22.0 in /Users/mve/miniforge3/envs/yolov5-ultralytics/lib/python3.9/site-packages (from matplotlib>=3.2.2->-r requirements.txt (line 4)) (4.33.3)\r\n",
      "Requirement already satisfied: charset-normalizer~=2.0.0 in /Users/mve/miniforge3/envs/yolov5-ultralytics/lib/python3.9/site-packages (from requests>=2.23.0->-r requirements.txt (line 9)) (2.0.12)\r\n",
      "Requirement already satisfied: urllib3<1.27,>=1.21.1 in /Users/mve/miniforge3/envs/yolov5-ultralytics/lib/python3.9/site-packages (from requests>=2.23.0->-r requirements.txt (line 9)) (1.26.6)\r\n",
      "Requirement already satisfied: idna<4,>=2.5 in /Users/mve/miniforge3/envs/yolov5-ultralytics/lib/python3.9/site-packages (from requests>=2.23.0->-r requirements.txt (line 9)) (2.10)\r\n",
      "Requirement already satisfied: certifi>=2017.4.17 in /Users/mve/miniforge3/envs/yolov5-ultralytics/lib/python3.9/site-packages (from requests>=2.23.0->-r requirements.txt (line 9)) (2021.5.30)\r\n",
      "Requirement already satisfied: typing-extensions in /Users/mve/miniforge3/envs/yolov5-ultralytics/lib/python3.9/site-packages (from torch>=1.7.0->-r requirements.txt (line 11)) (4.2.0)\r\n",
      "Requirement already satisfied: tensorboard-data-server<0.7.0,>=0.6.0 in /Users/mve/miniforge3/envs/yolov5-ultralytics/lib/python3.9/site-packages (from tensorboard>=2.4.1->-r requirements.txt (line 16)) (0.6.1)\r\n",
      "Requirement already satisfied: werkzeug>=1.0.1 in /Users/mve/miniforge3/envs/yolov5-ultralytics/lib/python3.9/site-packages (from tensorboard>=2.4.1->-r requirements.txt (line 16)) (2.1.2)\r\n",
      "Requirement already satisfied: setuptools>=41.0.0 in /Users/mve/miniforge3/envs/yolov5-ultralytics/lib/python3.9/site-packages (from tensorboard>=2.4.1->-r requirements.txt (line 16)) (62.3.1)\r\n",
      "Requirement already satisfied: wheel>=0.26 in /Users/mve/miniforge3/envs/yolov5-ultralytics/lib/python3.9/site-packages (from tensorboard>=2.4.1->-r requirements.txt (line 16)) (0.37.1)\r\n",
      "Requirement already satisfied: absl-py>=0.4 in /Users/mve/miniforge3/envs/yolov5-ultralytics/lib/python3.9/site-packages (from tensorboard>=2.4.1->-r requirements.txt (line 16)) (1.0.0)\r\n",
      "Requirement already satisfied: markdown>=2.6.8 in /Users/mve/miniforge3/envs/yolov5-ultralytics/lib/python3.9/site-packages (from tensorboard>=2.4.1->-r requirements.txt (line 16)) (3.3.7)\r\n",
      "Requirement already satisfied: google-auth-oauthlib<0.5,>=0.4.1 in /Users/mve/miniforge3/envs/yolov5-ultralytics/lib/python3.9/site-packages (from tensorboard>=2.4.1->-r requirements.txt (line 16)) (0.4.6)\r\n",
      "Requirement already satisfied: grpcio>=1.24.3 in /Users/mve/miniforge3/envs/yolov5-ultralytics/lib/python3.9/site-packages (from tensorboard>=2.4.1->-r requirements.txt (line 16)) (1.46.1)\r\n",
      "Requirement already satisfied: protobuf>=3.9.2 in /Users/mve/miniforge3/envs/yolov5-ultralytics/lib/python3.9/site-packages (from tensorboard>=2.4.1->-r requirements.txt (line 16)) (3.20.1)\r\n",
      "Requirement already satisfied: tensorboard-plugin-wit>=1.6.0 in /Users/mve/miniforge3/envs/yolov5-ultralytics/lib/python3.9/site-packages (from tensorboard>=2.4.1->-r requirements.txt (line 16)) (1.8.1)\r\n",
      "Requirement already satisfied: google-auth<3,>=1.6.3 in /Users/mve/miniforge3/envs/yolov5-ultralytics/lib/python3.9/site-packages (from tensorboard>=2.4.1->-r requirements.txt (line 16)) (2.6.6)\r\n",
      "Requirement already satisfied: pytz>=2020.1 in /Users/mve/miniforge3/envs/yolov5-ultralytics/lib/python3.9/site-packages (from pandas>=1.1.4->-r requirements.txt (line 20)) (2022.1)\r\n",
      "Requirement already satisfied: six in /Users/mve/miniforge3/envs/yolov5-ultralytics/lib/python3.9/site-packages (from absl-py>=0.4->tensorboard>=2.4.1->-r requirements.txt (line 16)) (1.16.0)\r\n",
      "Requirement already satisfied: cachetools<6.0,>=2.0.0 in /Users/mve/miniforge3/envs/yolov5-ultralytics/lib/python3.9/site-packages (from google-auth<3,>=1.6.3->tensorboard>=2.4.1->-r requirements.txt (line 16)) (5.1.0)\r\n",
      "Requirement already satisfied: rsa<5,>=3.1.4 in /Users/mve/miniforge3/envs/yolov5-ultralytics/lib/python3.9/site-packages (from google-auth<3,>=1.6.3->tensorboard>=2.4.1->-r requirements.txt (line 16)) (4.8)\r\n",
      "Requirement already satisfied: pyasn1-modules>=0.2.1 in /Users/mve/miniforge3/envs/yolov5-ultralytics/lib/python3.9/site-packages (from google-auth<3,>=1.6.3->tensorboard>=2.4.1->-r requirements.txt (line 16)) (0.2.8)\r\n",
      "Requirement already satisfied: requests-oauthlib>=0.7.0 in /Users/mve/miniforge3/envs/yolov5-ultralytics/lib/python3.9/site-packages (from google-auth-oauthlib<0.5,>=0.4.1->tensorboard>=2.4.1->-r requirements.txt (line 16)) (1.3.1)\r\n",
      "Requirement already satisfied: importlib-metadata>=4.4 in /Users/mve/miniforge3/envs/yolov5-ultralytics/lib/python3.9/site-packages (from markdown>=2.6.8->tensorboard>=2.4.1->-r requirements.txt (line 16)) (4.11.3)\r\n",
      "Requirement already satisfied: zipp>=0.5 in /Users/mve/miniforge3/envs/yolov5-ultralytics/lib/python3.9/site-packages (from importlib-metadata>=4.4->markdown>=2.6.8->tensorboard>=2.4.1->-r requirements.txt (line 16)) (3.7.0)\r\n",
      "Requirement already satisfied: pyasn1<0.5.0,>=0.4.6 in /Users/mve/miniforge3/envs/yolov5-ultralytics/lib/python3.9/site-packages (from pyasn1-modules>=0.2.1->google-auth<3,>=1.6.3->tensorboard>=2.4.1->-r requirements.txt (line 16)) (0.4.8)\r\n",
      "Requirement already satisfied: oauthlib>=3.0.0 in /Users/mve/miniforge3/envs/yolov5-ultralytics/lib/python3.9/site-packages (from requests-oauthlib>=0.7.0->google-auth-oauthlib<0.5,>=0.4.1->tensorboard>=2.4.1->-r requirements.txt (line 16)) (3.2.0)\r\n",
      "Note: you may need to restart the kernel to use updated packages.\n",
      "Note: you may need to restart the kernel to use updated packages.\n",
      "Setup complete. Using torch 1.11.0 (CPU)\n"
     ]
    }
   ],
   "source": [
    "# Only clone repo if not already present\n",
    "if os.path.isdir(\"yolov5\"):\n",
    "  print (\"File exist\")\n",
    "else:\n",
    "  !git clone https://github.com/ultralytics/yolov5  # clone repo\n",
    "  !git checkout apple/mps\n",
    "%cd yolov5\n",
    "# %pip install -qr requirements.txt # install dependencies\n",
    "%pip install --pre -r requirements.txt --extra-index-url https://download.pytorch.org/whl/nightly/cpu # install dependencies\n",
    "%pip install -q roboflow\n",
    "\n",
    "import torch\n",
    "import os\n",
    "from IPython.display import Image, clear_output  # to display images\n",
    "\n",
    "print(f\"Setup complete. Using torch {torch.__version__} ({torch.cuda.get_device_properties(0).name if torch.cuda.is_available() else 'CPU'})\")"
   ]
  },
  {
   "cell_type": "code",
   "execution_count": 3,
   "outputs": [
    {
     "name": "stdout",
     "output_type": "stream",
     "text": [
      "Requirement already satisfied: protobuf==3.20.1 in /Users/mve/miniforge3/envs/yolov5-ultralytics/lib/python3.9/site-packages (3.20.1)\r\n",
      "Note: you may need to restart the kernel to use updated packages.\n"
     ]
    }
   ],
   "source": [
    "%pip install protobuf==\"3.20.1\" # Fixes an error."
   ],
   "metadata": {
    "collapsed": false,
    "pycharm": {
     "name": "#%%\n"
    }
   }
  },
  {
   "cell_type": "markdown",
   "metadata": {
    "id": "zP6USLgz2f0r",
    "pycharm": {
     "name": "#%% md\n"
    }
   },
   "source": [
    "# Step 2: Assemble Our Dataset\n"
   ]
  },
  {
   "cell_type": "code",
   "execution_count": 4,
   "metadata": {
    "colab": {
     "base_uri": "https://localhost:8080/"
    },
    "id": "R2wGvjd4Z_92",
    "outputId": "cbd6ed8e-91ed-494c-96da-f129c4cba542",
    "pycharm": {
     "name": "#%%\n"
    }
   },
   "outputs": [
    {
     "name": "stdout",
     "output_type": "stream",
     "text": [
      "upload and label your dataset, and get an API KEY here: https://app.roboflow.com/?model=yolov5&ref=ultralytics\n"
     ]
    }
   ],
   "source": [
    "from roboflow import Roboflow\n",
    "rf = Roboflow(model_format=\"yolov5\", notebook=\"ultralytics\")"
   ]
  },
  {
   "cell_type": "code",
   "execution_count": 5,
   "metadata": {
    "id": "2jjT5uIHo6l5",
    "pycharm": {
     "name": "#%%\n"
    }
   },
   "outputs": [],
   "source": [
    "# set up environment\n",
    "os.environ[\"DATASET_DIRECTORY\"] = PROJECT_ROOT + \"/datasets\""
   ]
  },
  {
   "cell_type": "markdown",
   "metadata": {
    "id": "SYAKYDMg96Oq",
    "pycharm": {
     "name": "#%% md\n"
    }
   },
   "source": [
    "# Change the following code to switch dataset."
   ]
  },
  {
   "cell_type": "code",
   "execution_count": 6,
   "metadata": {
    "colab": {
     "base_uri": "https://localhost:8080/"
    },
    "id": "FwJcaoPGF4VI",
    "outputId": "cce5cb32-71e5-40ec-df4b-8ac75d637aa7",
    "pycharm": {
     "name": "#%%\n"
    }
   },
   "outputs": [
    {
     "name": "stdout",
     "output_type": "stream",
     "text": [
      "loading Roboflow workspace...\n",
      "loading Roboflow project...\n",
      "Downloading Dataset Version Zip in ~/code/school/captcha-solver/datasets/CAPTCHA-images-33 to yolov5pytorch: 50% [24567808 / 48264801] bytes"
     ]
    },
    {
     "name": "stderr",
     "output_type": "stream",
     "text": [
      "IOPub message rate exceeded.\n",
      "The notebook server will temporarily stop sending output\n",
      "to the client in order to avoid crashing it.\n",
      "To change this limit, set the config variable\n",
      "`--NotebookApp.iopub_msg_rate_limit`.\n",
      "\n",
      "Current values:\n",
      "NotebookApp.iopub_msg_rate_limit=1000.0 (msgs/sec)\n",
      "NotebookApp.rate_limit_window=3.0 (secs)\n",
      "\n"
     ]
    }
   ],
   "source": [
    "# after following the link above, recieve python code with these fields filled in\n",
    "from roboflow import Roboflow\n",
    "rf = Roboflow(api_key=\"lpAPGdHq3w2H0vl0cBAu\")\n",
    "project = rf.workspace(\"captcha-solver\").project(\"captcha-images\")\n",
    "dataset = project.version(33).download(\"yolov5\")"
   ]
  },
  {
   "cell_type": "markdown",
   "metadata": {
    "id": "X7yAi9hd-T4B",
    "pycharm": {
     "name": "#%% md\n"
    }
   },
   "source": [
    "# Step 3: Train Our Custom YOLOv5 model\n",
    "\n",
    "Here, we are able to pass a number of arguments:\n",
    "- **img:** define input image size\n",
    "- **batch:** determine batch size\n",
    "- **epochs:** define the number of training epochs. (Note: often, 3000+ are common here!)\n",
    "- **data:** Our dataset locaiton is saved in the `dataset.location`\n",
    "- **weights:** specify a path to weights to start transfer learning from. Here we choose the generic COCO pretrained checkpoint.\n",
    "- **cache:** cache images for faster training\n",
    "\n",
    "You can switch weights to any of these pretrained checkpoints:\n",
    "https://github.com/ultralytics/yolov5#pretrained-checkpoints\n",
    "\n",
    "# Model info\n",
    "Tested with 120 epochs, 786 images stretched to 640x640 on a Tesla K80.\n",
    "- yolov5n6: will take an estimated 1.3 hours\n",
    "- yolov5s6: will take an estimated 2 hours\n",
    "- yolov5m6: will take an estimated 5 hours\n",
    "- yolov5l6: will take an estimated 9 hours\n",
    "- yolov5x6: Not enough GPU RAM\n"
   ]
  },
  {
   "cell_type": "code",
   "execution_count": 7,
   "metadata": {
    "id": "IdaupgE430YP",
    "pycharm": {
     "name": "#%%\n"
    }
   },
   "outputs": [],
   "source": [
    "model = 'yolov5n6.pt' #@param [\"yolov5n6.pt\", \"yolov5s6.pt\", \"yolov5m6.pt\", \"yolov5l6.pt\", \"yolov5x6.pt\"] {allow-input: true}"
   ]
  },
  {
   "cell_type": "code",
   "execution_count": 8,
   "metadata": {
    "colab": {
     "base_uri": "https://localhost:8080/"
    },
    "id": "l8OwBWU2yk7Z",
    "outputId": "a50662e9-a3ef-44a6-f797-58ee539cf2e8",
    "pycharm": {
     "name": "#%%\n"
    }
   },
   "outputs": [
    {
     "name": "stdout",
     "output_type": "stream",
     "text": [
      "Requirement already satisfied: wandb in /Users/mve/miniforge3/envs/yolov5-ultralytics/lib/python3.9/site-packages (0.12.16)\r\n",
      "Requirement already satisfied: sentry-sdk>=1.0.0 in /Users/mve/miniforge3/envs/yolov5-ultralytics/lib/python3.9/site-packages (from wandb) (1.5.12)\r\n",
      "Requirement already satisfied: protobuf>=3.12.0 in /Users/mve/miniforge3/envs/yolov5-ultralytics/lib/python3.9/site-packages (from wandb) (3.20.1)\r\n",
      "Requirement already satisfied: docker-pycreds>=0.4.0 in /Users/mve/miniforge3/envs/yolov5-ultralytics/lib/python3.9/site-packages (from wandb) (0.4.0)\r\n",
      "Requirement already satisfied: setproctitle in /Users/mve/miniforge3/envs/yolov5-ultralytics/lib/python3.9/site-packages (from wandb) (1.2.3)\r\n",
      "Requirement already satisfied: setuptools in /Users/mve/miniforge3/envs/yolov5-ultralytics/lib/python3.9/site-packages (from wandb) (62.3.1)\r\n",
      "Requirement already satisfied: Click!=8.0.0,>=7.0 in /Users/mve/miniforge3/envs/yolov5-ultralytics/lib/python3.9/site-packages (from wandb) (8.1.3)\r\n",
      "Requirement already satisfied: six>=1.13.0 in /Users/mve/miniforge3/envs/yolov5-ultralytics/lib/python3.9/site-packages (from wandb) (1.16.0)\r\n",
      "Requirement already satisfied: PyYAML in /Users/mve/miniforge3/envs/yolov5-ultralytics/lib/python3.9/site-packages (from wandb) (6.0)\r\n",
      "Requirement already satisfied: python-dateutil>=2.6.1 in /Users/mve/miniforge3/envs/yolov5-ultralytics/lib/python3.9/site-packages (from wandb) (2.8.2)\r\n",
      "Requirement already satisfied: GitPython>=1.0.0 in /Users/mve/miniforge3/envs/yolov5-ultralytics/lib/python3.9/site-packages (from wandb) (3.1.27)\r\n",
      "Requirement already satisfied: requests<3,>=2.0.0 in /Users/mve/miniforge3/envs/yolov5-ultralytics/lib/python3.9/site-packages (from wandb) (2.27.1)\r\n",
      "Requirement already satisfied: psutil>=5.0.0 in /Users/mve/miniforge3/envs/yolov5-ultralytics/lib/python3.9/site-packages (from wandb) (5.9.0)\r\n",
      "Requirement already satisfied: pathtools in /Users/mve/miniforge3/envs/yolov5-ultralytics/lib/python3.9/site-packages (from wandb) (0.1.2)\r\n",
      "Requirement already satisfied: shortuuid>=0.5.0 in /Users/mve/miniforge3/envs/yolov5-ultralytics/lib/python3.9/site-packages (from wandb) (1.0.9)\r\n",
      "Requirement already satisfied: promise<3,>=2.0 in /Users/mve/miniforge3/envs/yolov5-ultralytics/lib/python3.9/site-packages (from wandb) (2.3)\r\n",
      "Requirement already satisfied: gitdb<5,>=4.0.1 in /Users/mve/miniforge3/envs/yolov5-ultralytics/lib/python3.9/site-packages (from GitPython>=1.0.0->wandb) (4.0.9)\r\n",
      "Requirement already satisfied: certifi>=2017.4.17 in /Users/mve/miniforge3/envs/yolov5-ultralytics/lib/python3.9/site-packages (from requests<3,>=2.0.0->wandb) (2021.5.30)\r\n",
      "Requirement already satisfied: charset-normalizer~=2.0.0 in /Users/mve/miniforge3/envs/yolov5-ultralytics/lib/python3.9/site-packages (from requests<3,>=2.0.0->wandb) (2.0.12)\r\n",
      "Requirement already satisfied: idna<4,>=2.5 in /Users/mve/miniforge3/envs/yolov5-ultralytics/lib/python3.9/site-packages (from requests<3,>=2.0.0->wandb) (2.10)\r\n",
      "Requirement already satisfied: urllib3<1.27,>=1.21.1 in /Users/mve/miniforge3/envs/yolov5-ultralytics/lib/python3.9/site-packages (from requests<3,>=2.0.0->wandb) (1.26.6)\r\n",
      "Requirement already satisfied: smmap<6,>=3.0.1 in /Users/mve/miniforge3/envs/yolov5-ultralytics/lib/python3.9/site-packages (from gitdb<5,>=4.0.1->GitPython>=1.0.0->wandb) (5.0.0)\r\n"
     ]
    }
   ],
   "source": [
    "# Install wandb for tracking and visualizing YOLOv5 runs.\n",
    "!pip install wandb"
   ]
  },
  {
   "cell_type": "code",
   "execution_count": 9,
   "metadata": {
    "colab": {
     "base_uri": "https://localhost:8080/",
     "height": 104
    },
    "id": "LOZr_hp2V_b1",
    "outputId": "bd06a0f5-3b31-434a-e113-b23e8c21f970",
    "pycharm": {
     "name": "#%%\n"
    }
   },
   "outputs": [
    {
     "name": "stderr",
     "output_type": "stream",
     "text": [
      "\u001B[34m\u001B[1mwandb\u001B[0m: Currently logged in as: \u001B[33mmve\u001B[0m (\u001B[33mhan-captcha\u001B[0m). Use \u001B[1m`wandb login --relogin`\u001B[0m to force relogin\n"
     ]
    },
    {
     "data": {
      "text/plain": "True"
     },
     "execution_count": 9,
     "metadata": {},
     "output_type": "execute_result"
    }
   ],
   "source": [
    "import wandb\n",
    "wandb.login()"
   ]
  },
  {
   "cell_type": "code",
   "execution_count": 10,
   "metadata": {
    "id": "sltbyUC12zTp",
    "pycharm": {
     "name": "#%%\n"
    }
   },
   "outputs": [],
   "source": [
    "# --resume wandb-artifact://han-captcha/YOLOv5/1182ptzf\n",
    "# {model}\n",
    "# /content/best.pt"
   ]
  },
  {
   "cell_type": "code",
   "execution_count": 11,
   "metadata": {
    "colab": {
     "base_uri": "https://localhost:8080/"
    },
    "id": "eaFNnxLJbq4J",
    "outputId": "6d839d5e-823a-4542-f322-673bcb41d47d",
    "pycharm": {
     "name": "#%%\n"
    }
   },
   "outputs": [
    {
     "name": "stdout",
     "output_type": "stream",
     "text": [
      "\u001B[34m\u001B[1mwandb\u001B[0m: Currently logged in as: \u001B[33mmve\u001B[0m (\u001B[33mhan-captcha\u001B[0m). Use \u001B[1m`wandb login --relogin`\u001B[0m to force relogin\r\n",
      "\u001B[34m\u001B[1mtrain: \u001B[0mweights=yolov5n6.pt, cfg=, data=/Users/mve/code/school/captcha-solver/yolov5/~/code/school/captcha-solver/datasets/CAPTCHA-images-33/data.yaml, hyp=data/hyps/hyp.scratch-low.yaml, epochs=5, batch_size=8, imgsz=800, rect=False, resume=False, nosave=False, noval=False, noautoanchor=False, noplots=False, evolve=None, bucket=, cache=ram, image_weights=False, device=mps, multi_scale=False, single_cls=False, optimizer=SGD, sync_bn=False, workers=8, project=runs/train, name=exp, exist_ok=False, quad=False, cos_lr=False, label_smoothing=0.0, patience=100, freeze=[0], save_period=-1, local_rank=-1, entity=None, upload_dataset=False, bbox_interval=-1, artifact_alias=latest\r\n",
      "\u001B[34m\u001B[1mgithub: \u001B[0mup to date with https://github.com/ultralytics/yolov5 ✅\r\n",
      "Traceback (most recent call last):\r\n",
      "  File \"/Users/mve/code/school/captcha-solver/yolov5/train.py\", line 670, in <module>\r\n",
      "    main(opt)\r\n",
      "  File \"/Users/mve/code/school/captcha-solver/yolov5/train.py\", line 551, in main\r\n",
      "    device = select_device(opt.device, batch_size=opt.batch_size)\r\n",
      "  File \"/Users/mve/code/school/captcha-solver/yolov5/utils/torch_utils.py\", line 61, in select_device\r\n",
      "    assert torch.cuda.is_available() and torch.cuda.device_count() >= len(device.replace(',', '')), \\\r\n",
      "AssertionError: Invalid CUDA '--device mps' requested, use '--device cpu' or pass valid CUDA device(s)\r\n"
     ]
    }
   ],
   "source": [
    "!python train.py --device mps --img 800 --batch 8 --epochs 5 --data {dataset.location}/data.yaml --weights {model} --cache"
   ]
  },
  {
   "cell_type": "markdown",
   "metadata": {
    "id": "AcIRLQOlA14A",
    "pycharm": {
     "name": "#%% md\n"
    }
   },
   "source": [
    "# Evaluate Custom YOLOv5 Detector Performance\n",
    "Training losses and performance metrics are saved to Tensorboard and also to a logfile.\n",
    "\n",
    "If you are new to these metrics, the one you want to focus on is `mAP_0.5` - learn more about mean average precision [here](https://blog.roboflow.com/mean-average-precision/)."
   ]
  },
  {
   "cell_type": "markdown",
   "metadata": {
    "id": "jtmS7_TXFsT3",
    "pycharm": {
     "name": "#%% md\n"
    }
   },
   "source": [
    "#Run Inference  With Trained Weights\n",
    "Run inference with a pretrained checkpoint on contents of `test/images` folder downloaded from Roboflow."
   ]
  },
  {
   "cell_type": "code",
   "execution_count": 12,
   "metadata": {
    "colab": {
     "base_uri": "https://localhost:8080/"
    },
    "id": "TWjjiBcic3Vz",
    "outputId": "3f50260f-9a64-42cc-be36-b2ea14898a6a",
    "pycharm": {
     "name": "#%%\n"
    }
   },
   "outputs": [
    {
     "name": "stdout",
     "output_type": "stream",
     "text": [
      "\u001B[34m\u001B[1mdetect: \u001B[0mweights=['runs/train/exp/weights/best.pt'], source=/Users/mve/code/school/captcha-solver/yolov5/~/code/school/captcha-solver/datasets/CAPTCHA-images-33/test/images, data=data/coco128.yaml, imgsz=[800, 800], conf_thres=0.1, iou_thres=0.45, max_det=1000, device=, view_img=False, save_txt=False, save_conf=False, save_crop=False, nosave=False, classes=None, agnostic_nms=False, augment=False, visualize=False, update=False, project=runs/detect, name=exp, exist_ok=False, line_thickness=3, hide_labels=False, hide_conf=False, half=False, dnn=False\r\n",
      "YOLOv5 🚀 v6.1-202-g7d46c69 Python-3.9.1 torch-1.11.0 CPU\r\n",
      "\r\n",
      "Traceback (most recent call last):\r\n",
      "  File \"/Users/mve/code/school/captcha-solver/yolov5/detect.py\", line 252, in <module>\r\n",
      "    main(opt)\r\n",
      "  File \"/Users/mve/code/school/captcha-solver/yolov5/detect.py\", line 247, in main\r\n",
      "    run(**vars(opt))\r\n",
      "  File \"/Users/mve/miniforge3/envs/yolov5-ultralytics/lib/python3.9/site-packages/torch/autograd/grad_mode.py\", line 27, in decorate_context\r\n",
      "    return func(*args, **kwargs)\r\n",
      "  File \"/Users/mve/code/school/captcha-solver/yolov5/detect.py\", line 92, in run\r\n",
      "    model = DetectMultiBackend(weights, device=device, dnn=dnn, data=data, fp16=half)\r\n",
      "  File \"/Users/mve/code/school/captcha-solver/yolov5/models/common.py\", line 328, in __init__\r\n",
      "    model = attempt_load(weights if isinstance(weights, list) else w, map_location=device)\r\n",
      "  File \"/Users/mve/code/school/captcha-solver/yolov5/models/experimental.py\", line 80, in attempt_load\r\n",
      "    ckpt = torch.load(attempt_download(w), map_location=map_location)  # load\r\n",
      "  File \"/Users/mve/miniforge3/envs/yolov5-ultralytics/lib/python3.9/site-packages/torch/serialization.py\", line 699, in load\r\n",
      "    with _open_file_like(f, 'rb') as opened_file:\r\n",
      "  File \"/Users/mve/miniforge3/envs/yolov5-ultralytics/lib/python3.9/site-packages/torch/serialization.py\", line 231, in _open_file_like\r\n",
      "    return _open_file(name_or_buffer, mode)\r\n",
      "  File \"/Users/mve/miniforge3/envs/yolov5-ultralytics/lib/python3.9/site-packages/torch/serialization.py\", line 212, in __init__\r\n",
      "    super(_open_file, self).__init__(open(name, mode))\r\n",
      "FileNotFoundError: [Errno 2] No such file or directory: 'runs/train/exp/weights/best.pt'\r\n"
     ]
    }
   ],
   "source": [
    "# Use newly run weights.\n",
    "!python detect.py --weights runs/train/exp/weights/best.pt --img 800 --conf 0.1 --source {dataset.location}/test/images"
   ]
  },
  {
   "cell_type": "code",
   "execution_count": 13,
   "metadata": {
    "id": "0b1qbS_i8Prj",
    "pycharm": {
     "name": "#%%\n"
    }
   },
   "outputs": [],
   "source": [
    "# Use existing weights.\n",
    "# !python detect.py --weights /content/v11-yolov5s6.pt --img 800 --conf 0.1 --source {dataset.location}/test/images"
   ]
  },
  {
   "cell_type": "code",
   "execution_count": 5,
   "metadata": {
    "colab": {
     "base_uri": "https://localhost:8080/",
     "height": 1000
    },
    "id": "ZbUn4_b9GCKO",
    "outputId": "0385f446-56aa-4a70-cc3e-f8908121b01a",
    "pycharm": {
     "name": "#%%\n"
    }
   },
   "outputs": [],
   "source": [
    "# display inference on ALL test images\n",
    "\n",
    "import glob\n",
    "from IPython.display import Image, display\n",
    "\n",
    "# for imageName in glob.glob(PROJECT_ROOT + '/yolov5/runs/detect/exp/*.jpg'): #assuming JPG\n",
    "for imageName in glob.glob(PROJECT_ROOT + '/images/*.jpg'): #assuming JPG\n",
    "    display(Image(filename=imageName))\n",
    "    print(\"\\n\")"
   ]
  },
  {
   "cell_type": "markdown",
   "metadata": {
    "id": "g8dHcni6CJYt",
    "pycharm": {
     "name": "#%% md\n"
    }
   },
   "source": [
    "# Conclusion and Next Steps\n",
    "\n",
    "Congratulations! You've trained a custom YOLOv5 model to recognize your custom objects.\n",
    "\n",
    "To improve you model's performance, we recommend first interating on your datasets coverage and quality. See this guide for [model performance improvement](https://github.com/ultralytics/yolov5/wiki/Tips-for-Best-Training-Results).\n",
    "\n",
    "To deploy your model to an application, see this guide on [exporting your model to deployment destinations](https://github.com/ultralytics/yolov5/issues/251).\n",
    "\n",
    "Once your model is in production, you will want to continually iterate and improve on your dataset and model via [active learning](https://blog.roboflow.com/what-is-active-learning/)."
   ]
  },
  {
   "cell_type": "code",
   "execution_count": 15,
   "metadata": {
    "colab": {
     "base_uri": "https://localhost:8080/",
     "height": 322
    },
    "id": "7iiObB2WCMh6",
    "outputId": "d1f0bb13-9f96-42f3-f0f9-d78fb0cfabec",
    "pycharm": {
     "name": "#%%\n"
    }
   },
   "outputs": [],
   "source": [
    "# Export your model's weights for future use\n",
    "# from google.colab import files\n",
    "# files.download('./runs/train/exp/weights/best.pt')"
   ]
  }
 ],
 "metadata": {
  "accelerator": "GPU",
  "colab": {
   "collapsed_sections": [],
   "name": "YOLOv5 Ultralytics",
   "provenance": []
  },
  "kernelspec": {
   "display_name": "Python 3 (ipykernel)",
   "language": "python",
   "name": "python3"
  },
  "language_info": {
   "codemirror_mode": {
    "name": "ipython",
    "version": 3
   },
   "file_extension": ".py",
   "mimetype": "text/x-python",
   "name": "python",
   "nbconvert_exporter": "python",
   "pygments_lexer": "ipython3",
   "version": "3.10.2"
  }
 },
 "nbformat": 4,
 "nbformat_minor": 1
}